{
 "cells": [
  {
   "cell_type": "code",
   "execution_count": null,
   "id": "2e9b954c",
   "metadata": {},
   "outputs": [],
   "source": [
    "import pandas as pd\n",
    "import shapash"
   ]
  },
  {
   "cell_type": "code",
   "execution_count": 2,
   "id": "f7cb66c7",
   "metadata": {},
   "outputs": [],
   "source": [
    "\n",
    "import numpy as np\n",
    "import matplotlib.pyplot as plt; plt.rcdefaults()\n",
    "from sklearn.metrics import confusion_matrix,accuracy_score,roc_curve,classification_report,auc\n",
    "from sklearn.metrics import ConfusionMatrixDisplay\n",
    "from sklearn.model_selection import GridSearchCV\n",
    "import seaborn as sns\n",
    "import plotly.express as px\n",
    "\n",
    "from sklearn.model_selection import cross_val_score\n",
    "from sklearn.feature_selection import RFECV\n",
    "#from yellowbrick.model_selection import RFECV as YERFECV\n",
    "import sklearn\n",
    "\n",
    "from sklearn.linear_model import LogisticRegression\n",
    "\n",
    "#from ydata_profiling import ProfileReport\n",
    "\n",
    "#import shap\n",
    "#shap.initjs()\n",
    "\n"
   ]
  },
  {
   "cell_type": "code",
   "execution_count": 3,
   "id": "37a271b1",
   "metadata": {},
   "outputs": [],
   "source": [
    "from sklearn.model_selection import train_test_split\n",
    "from sklearn.metrics import mean_squared_error, mean_absolute_error,r2_score\n",
    "from sklearn import preprocessing"
   ]
  },
  {
   "cell_type": "markdown",
   "id": "d674e155",
   "metadata": {},
   "source": [
    "# HEART DATA"
   ]
  },
  {
   "cell_type": "markdown",
   "id": "0d596594",
   "metadata": {},
   "source": [
    "# BASIC UNDERSTANDING OF THE DATASET"
   ]
  },
  {
   "cell_type": "code",
   "execution_count": 4,
   "id": "9727887d",
   "metadata": {},
   "outputs": [
    {
     "name": "stdout",
     "output_type": "stream",
     "text": [
      "(918, 12)\n",
      "Counter({1: 508, 0: 410})\n"
     ]
    },
    {
     "data": {
      "text/html": [
       "<div>\n",
       "<style scoped>\n",
       "    .dataframe tbody tr th:only-of-type {\n",
       "        vertical-align: middle;\n",
       "    }\n",
       "\n",
       "    .dataframe tbody tr th {\n",
       "        vertical-align: top;\n",
       "    }\n",
       "\n",
       "    .dataframe thead th {\n",
       "        text-align: right;\n",
       "    }\n",
       "</style>\n",
       "<table border=\"1\" class=\"dataframe\">\n",
       "  <thead>\n",
       "    <tr style=\"text-align: right;\">\n",
       "      <th></th>\n",
       "      <th>Age</th>\n",
       "      <th>RestingBP</th>\n",
       "      <th>Cholesterol</th>\n",
       "      <th>FastingBS</th>\n",
       "      <th>MaxHR</th>\n",
       "      <th>Oldpeak</th>\n",
       "      <th>HeartDisease</th>\n",
       "    </tr>\n",
       "  </thead>\n",
       "  <tbody>\n",
       "    <tr>\n",
       "      <th>count</th>\n",
       "      <td>918.000000</td>\n",
       "      <td>918.000000</td>\n",
       "      <td>918.000000</td>\n",
       "      <td>918.000000</td>\n",
       "      <td>918.000000</td>\n",
       "      <td>918.000000</td>\n",
       "      <td>918.000000</td>\n",
       "    </tr>\n",
       "    <tr>\n",
       "      <th>mean</th>\n",
       "      <td>53.510893</td>\n",
       "      <td>132.396514</td>\n",
       "      <td>198.799564</td>\n",
       "      <td>0.233115</td>\n",
       "      <td>136.809368</td>\n",
       "      <td>0.887364</td>\n",
       "      <td>0.553377</td>\n",
       "    </tr>\n",
       "    <tr>\n",
       "      <th>std</th>\n",
       "      <td>9.432617</td>\n",
       "      <td>18.514154</td>\n",
       "      <td>109.384145</td>\n",
       "      <td>0.423046</td>\n",
       "      <td>25.460334</td>\n",
       "      <td>1.066570</td>\n",
       "      <td>0.497414</td>\n",
       "    </tr>\n",
       "    <tr>\n",
       "      <th>min</th>\n",
       "      <td>28.000000</td>\n",
       "      <td>0.000000</td>\n",
       "      <td>0.000000</td>\n",
       "      <td>0.000000</td>\n",
       "      <td>60.000000</td>\n",
       "      <td>-2.600000</td>\n",
       "      <td>0.000000</td>\n",
       "    </tr>\n",
       "    <tr>\n",
       "      <th>25%</th>\n",
       "      <td>47.000000</td>\n",
       "      <td>120.000000</td>\n",
       "      <td>173.250000</td>\n",
       "      <td>0.000000</td>\n",
       "      <td>120.000000</td>\n",
       "      <td>0.000000</td>\n",
       "      <td>0.000000</td>\n",
       "    </tr>\n",
       "    <tr>\n",
       "      <th>50%</th>\n",
       "      <td>54.000000</td>\n",
       "      <td>130.000000</td>\n",
       "      <td>223.000000</td>\n",
       "      <td>0.000000</td>\n",
       "      <td>138.000000</td>\n",
       "      <td>0.600000</td>\n",
       "      <td>1.000000</td>\n",
       "    </tr>\n",
       "    <tr>\n",
       "      <th>75%</th>\n",
       "      <td>60.000000</td>\n",
       "      <td>140.000000</td>\n",
       "      <td>267.000000</td>\n",
       "      <td>0.000000</td>\n",
       "      <td>156.000000</td>\n",
       "      <td>1.500000</td>\n",
       "      <td>1.000000</td>\n",
       "    </tr>\n",
       "    <tr>\n",
       "      <th>max</th>\n",
       "      <td>77.000000</td>\n",
       "      <td>200.000000</td>\n",
       "      <td>603.000000</td>\n",
       "      <td>1.000000</td>\n",
       "      <td>202.000000</td>\n",
       "      <td>6.200000</td>\n",
       "      <td>1.000000</td>\n",
       "    </tr>\n",
       "  </tbody>\n",
       "</table>\n",
       "</div>"
      ],
      "text/plain": [
       "              Age   RestingBP  Cholesterol   FastingBS       MaxHR  \\\n",
       "count  918.000000  918.000000   918.000000  918.000000  918.000000   \n",
       "mean    53.510893  132.396514   198.799564    0.233115  136.809368   \n",
       "std      9.432617   18.514154   109.384145    0.423046   25.460334   \n",
       "min     28.000000    0.000000     0.000000    0.000000   60.000000   \n",
       "25%     47.000000  120.000000   173.250000    0.000000  120.000000   \n",
       "50%     54.000000  130.000000   223.000000    0.000000  138.000000   \n",
       "75%     60.000000  140.000000   267.000000    0.000000  156.000000   \n",
       "max     77.000000  200.000000   603.000000    1.000000  202.000000   \n",
       "\n",
       "          Oldpeak  HeartDisease  \n",
       "count  918.000000    918.000000  \n",
       "mean     0.887364      0.553377  \n",
       "std      1.066570      0.497414  \n",
       "min     -2.600000      0.000000  \n",
       "25%      0.000000      0.000000  \n",
       "50%      0.600000      1.000000  \n",
       "75%      1.500000      1.000000  \n",
       "max      6.200000      1.000000  "
      ]
     },
     "execution_count": 4,
     "metadata": {},
     "output_type": "execute_result"
    }
   ],
   "source": [
    "heart = pd.read_csv('data/bigheart.csv')\n",
    "print(heart.shape)\n",
    "#print(heart.head())\n",
    "#heart.info()\n",
    "from collections import Counter\n",
    "print(Counter(heart['HeartDisease']))  \n",
    "heart.describe()"
   ]
  },
  {
   "cell_type": "markdown",
   "id": "b2c20a06",
   "metadata": {},
   "source": [
    "## One hot encoding"
   ]
  },
  {
   "cell_type": "code",
   "execution_count": 5,
   "id": "6d0e270c",
   "metadata": {},
   "outputs": [],
   "source": [
    "heart2 = pd.get_dummies(heart, columns=['Sex', 'ChestPainType', 'RestingECG','ExerciseAngina',\\\n",
    "                                        'ST_Slope'])"
   ]
  },
  {
   "cell_type": "markdown",
   "id": "933d7ae4",
   "metadata": {},
   "source": [
    "# CREATE X AND y "
   ]
  },
  {
   "cell_type": "code",
   "execution_count": 6,
   "id": "63b47ad5",
   "metadata": {},
   "outputs": [
    {
     "name": "stdout",
     "output_type": "stream",
     "text": [
      "(918, 20)\n"
     ]
    }
   ],
   "source": [
    "X = heart2.drop('HeartDisease',axis=1)\n",
    "y = heart2['HeartDisease']\n",
    "print(X.shape)\n"
   ]
  },
  {
   "cell_type": "markdown",
   "id": "faaece0b",
   "metadata": {},
   "source": [
    "# GET THE NAMES OF COLUMNS TO USE LATER TO DISPLAY REGRESSION COEFFICIENTS"
   ]
  },
  {
   "cell_type": "code",
   "execution_count": 7,
   "id": "d875c688",
   "metadata": {},
   "outputs": [
    {
     "name": "stdout",
     "output_type": "stream",
     "text": [
      "The Column Header : ['Age', 'RestingBP', 'Cholesterol', 'FastingBS', 'MaxHR', 'Oldpeak', 'Sex_F', 'Sex_M', 'ChestPainType_ASY', 'ChestPainType_ATA', 'ChestPainType_NAP', 'ChestPainType_TA', 'RestingECG_LVH', 'RestingECG_Normal', 'RestingECG_ST', 'ExerciseAngina_N', 'ExerciseAngina_Y', 'ST_Slope_Down', 'ST_Slope_Flat', 'ST_Slope_Up']\n"
     ]
    }
   ],
   "source": [
    "column_headers = list(X.columns.values)\n",
    "print(\"The Column Header :\", column_headers)"
   ]
  },
  {
   "cell_type": "markdown",
   "id": "867ec8f4",
   "metadata": {},
   "source": [
    "# DATA PRE-PROCESSING ENDS HERE"
   ]
  },
  {
   "cell_type": "markdown",
   "id": "99d8294d",
   "metadata": {},
   "source": [
    "# -----------------------------------------------------"
   ]
  },
  {
   "cell_type": "markdown",
   "id": "d1f39fd5",
   "metadata": {},
   "source": [
    " # MODELING"
   ]
  },
  {
   "cell_type": "markdown",
   "id": "d1fdf39b",
   "metadata": {},
   "source": [
    "# SPLIT INTO TESTING AND TRAINING SET USING STRATIFY"
   ]
  },
  {
   "cell_type": "code",
   "execution_count": 8,
   "id": "4ed606af",
   "metadata": {},
   "outputs": [
    {
     "name": "stdout",
     "output_type": "stream",
     "text": [
      "615\n",
      "<class 'pandas.core.series.Series'>\n"
     ]
    }
   ],
   "source": [
    "\n",
    "X_train, X_test, y_train, y_test = train_test_split(X, y,test_size=0.33, random_state=42, stratify=y)\n",
    "print(len(y_train))\n",
    "X_testorig=X_test.copy()\n",
    "print(type(y_train))\n",
    "\n",
    "# THIS IS NEEDED FOR THE FIT FUNCTION OF THE ESTIMATORS. THE SERIES NEEDS TO BE CONVERTED TO \n",
    "#A 1-D ARRAY.\n",
    "y_train= y_train.to_numpy()\n",
    "y_test= y_test.to_numpy()\n",
    "y_testorig=y_test.copy()\n",
    "\n"
   ]
  },
  {
   "cell_type": "markdown",
   "id": "8ebc280b",
   "metadata": {},
   "source": [
    "# SHAPASH"
   ]
  },
  {
   "cell_type": "code",
   "execution_count": null,
   "id": "80b27147",
   "metadata": {},
   "outputs": [],
   "source": [
    "from shapash.explainer.smart_explainer import SmartExplainer\n",
    "\n",
    "from sklearn.ensemble import RandomForestClassifier\n",
    "model2 = RandomForestClassifier(n_estimators=200, criterion='entropy', max_features=\n",
    "                                'sqrt',random_state=12,max_depth=5)\n",
    "sw=model2.fit(X_train,y_train)\n",
    "model2_predicted = model2.predict(X_test)\n",
    "\n",
    "\n",
    "heart_features_dict={'Age': \"patient age\",\n",
    "              'Sex_F': \"Sex F\",\n",
    "              'Sex_M': 'Sex M',\n",
    "              'ChestPainType_ASY': 'chest_pain_type ASY',\n",
    "              'ChestPainType_ATA': 'chest_pain_type ATA',\n",
    "              'ChestPainType_NAP': 'chest_pain_type NAP',\n",
    "              'ChestPainType_TA' : 'chest_pain_typeTA',\n",
    "               'RestingBP': 'resting blood pressure',\n",
    "               'Cholesterol':'cholesterol',\n",
    "               'FastingBS': 'fasting blood pressure',\n",
    "               'RestingECG_LVH':'EKG LVH',\n",
    "               'RestingECG_Normal':'EKG Normal',\n",
    "               'RestingECG_ST': 'EKG ST',\n",
    "               'MaxHR': 'max heart rate',\n",
    "               'ExerciseAngina_N':'angina N',\n",
    "               'ExerciseAngina_Y': 'angina Y',\n",
    "               'Oldpeak':'oldpeak',\n",
    "               'ST_Slope_Down':'ST_segment Down',\n",
    "               'ST_Slope_Up': 'St Slope up',\n",
    "               'ST_Slope_Flat': 'St Slope Flat'\n",
    "               \n",
    "              }\n",
    "xpl = SmartExplainer(model=sw, features_dict=heart_features_dict)\n",
    "xpl.compile(x=X_test) #KNN is not supported by shapash\n",
    "\n",
    "app = xpl.run_app(title_story='Heart')"
   ]
  },
  {
   "cell_type": "markdown",
   "id": "7c3da6cc",
   "metadata": {},
   "source": [
    "# FEATUREWIZ"
   ]
  },
  {
   "cell_type": "code",
   "execution_count": 17,
   "id": "403290d8",
   "metadata": {},
   "outputs": [
    {
     "name": "stdout",
     "output_type": "stream",
     "text": [
      "featurewiz has selected 0.9 as the correlation limit. Change this limit to fit your needs...\n",
      "Skipping feature engineering since no feature_engg input...\n",
      "Skipping category encoding since no category encoders specified in input...\n",
      "#### Single_Label Binary_Classification problem ####\n",
      "    Loaded train data. Shape = (918, 21)\n",
      "#### Single_Label Binary_Classification problem ####\n",
      "No test data filename given...\n",
      "#######################################################################################\n",
      "######################## C L A S S I F Y I N G  V A R I A B L E S  ####################\n",
      "#######################################################################################\n",
      "        No variables were removed since no ID or low-information variables found in data set\n",
      "Removing 0 columns from further processing since ID or low information variables\n",
      "#######################################################################################\n",
      "#####  Searching for Uncorrelated List Of Variables (SULOV) in 20 features ############\n",
      "#######################################################################################\n",
      "    there are no null values in dataset...\n",
      "    Removing (1) highly correlated variables:\n",
      "    ['ExerciseAngina_Y']\n",
      "    Following (19) vars selected: ['Age', 'RestingBP', 'Cholesterol', 'FastingBS', 'MaxHR', 'Oldpeak', 'Sex_F', 'Sex_M', 'ChestPainType_ASY', 'ChestPainType_ATA', 'ChestPainType_NAP', 'ChestPainType_TA', 'RestingECG_LVH', 'RestingECG_Normal', 'RestingECG_ST', 'ST_Slope_Down', 'ST_Slope_Flat', 'ST_Slope_Up', 'ExerciseAngina_N']\n",
      "Completed SULOV. 19 features selected\n",
      "Time taken for SULOV method = 0 seconds\n",
      "Finally 19 vars selected after SULOV\n",
      "Converting all features to numeric before sending to XGBoost...\n",
      "    Number of booster rounds = 100\n",
      "        Selected: ['ST_Slope_Up', 'Cholesterol', 'MaxHR', 'Oldpeak', 'ChestPainType_ASY']\n",
      "            Time taken for regular XGBoost feature selection = 0 seconds\n",
      "        Selected: ['ST_Slope_Up', 'MaxHR', 'Oldpeak', 'ChestPainType_ASY', 'Sex_F']\n",
      "            Time taken for regular XGBoost feature selection = 0 seconds\n",
      "        Selected: ['ST_Slope_Up', 'ChestPainType_ASY', 'ExerciseAngina_N', 'RestingECG_LVH', 'RestingECG_ST']\n",
      "            Time taken for regular XGBoost feature selection = 0 seconds\n",
      "        Selected: ['ST_Slope_Up', 'ExerciseAngina_N', 'RestingECG_LVH', 'RestingECG_Normal', 'ST_Slope_Down']\n",
      "            Time taken for regular XGBoost feature selection = 0 seconds\n",
      "        Selected: ['ST_Slope_Up', 'ExerciseAngina_N', 'ST_Slope_Flat']\n",
      "            Time taken for regular XGBoost feature selection = 0 seconds\n",
      "    Completed XGBoost feature selection in 0 seconds\n",
      "Selected 12 important features:\n",
      "['ST_Slope_Up', 'Cholesterol', 'MaxHR', 'Oldpeak', 'ChestPainType_ASY', 'Sex_F', 'ExerciseAngina_N', 'RestingECG_LVH', 'RestingECG_ST', 'RestingECG_Normal', 'ST_Slope_Down', 'ST_Slope_Flat']\n",
      "Total Time taken for featurewiz selection = 1 seconds\n",
      "Output contains a list of 12 important features and a train dataframe\n"
     ]
    }
   ],
   "source": [
    "from featurewiz import featurewiz\n",
    "feats = featurewiz(heart2, 'HeartDisease',feature_engg='',corr_limit=0.9)"
   ]
  },
  {
   "cell_type": "code",
   "execution_count": null,
   "id": "7d58a766",
   "metadata": {},
   "outputs": [],
   "source": []
  }
 ],
 "metadata": {
  "finalized": {
   "timestamp": 1700063833949,
   "trusted": true
  },
  "kernelspec": {
   "display_name": "myfeaturewiz1",
   "language": "python",
   "name": "myfeaturewiz1"
  },
  "language_info": {
   "codemirror_mode": {
    "name": "ipython",
    "version": 3
   },
   "file_extension": ".py",
   "mimetype": "text/x-python",
   "name": "python",
   "nbconvert_exporter": "python",
   "pygments_lexer": "ipython3",
   "version": "3.7.13"
  }
 },
 "nbformat": 4,
 "nbformat_minor": 5
}
